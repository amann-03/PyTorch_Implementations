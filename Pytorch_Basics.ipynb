{
  "nbformat": 4,
  "nbformat_minor": 0,
  "metadata": {
    "colab": {
      "provenance": [],
      "toc_visible": true,
      "gpuType": "T4",
      "authorship_tag": "ABX9TyPsj7HXZiCMpfVS552IonIF",
      "include_colab_link": true
    },
    "kernelspec": {
      "name": "python3",
      "display_name": "Python 3"
    },
    "language_info": {
      "name": "python"
    },
    "accelerator": "GPU"
  },
  "cells": [
    {
      "cell_type": "markdown",
      "metadata": {
        "id": "view-in-github",
        "colab_type": "text"
      },
      "source": [
        "<a href=\"https://colab.research.google.com/github/amann-03/PyTorch_Implementations/blob/main/Pytorch_Basics.ipynb\" target=\"_parent\"><img src=\"https://colab.research.google.com/assets/colab-badge.svg\" alt=\"Open In Colab\"/></a>"
      ]
    },
    {
      "cell_type": "code",
      "execution_count": null,
      "metadata": {
        "colab": {
          "base_uri": "https://localhost:8080/"
        },
        "id": "h_aMqeYUPrWN",
        "outputId": "1e8eaa5b-59cf-4b26-f168-0e8618d69171"
      },
      "outputs": [
        {
          "output_type": "stream",
          "name": "stdout",
          "text": [
            "2.1.0+cu121\n"
          ]
        }
      ],
      "source": [
        "import torch\n",
        "import pandas as pd\n",
        "import numpy as np\n",
        "import matplotlib.pyplot as plt\n",
        "print(torch.__version__)"
      ]
    },
    {
      "cell_type": "markdown",
      "source": [
        "Introduction to Tensors"
      ],
      "metadata": {
        "id": "TEe9qmTbRXHt"
      }
    },
    {
      "cell_type": "code",
      "source": [
        "#scalar\n",
        "scalar = torch.tensor(7)\n",
        "scalar"
      ],
      "metadata": {
        "colab": {
          "base_uri": "https://localhost:8080/"
        },
        "id": "Rbc62gNBQ6hx",
        "outputId": "0915a495-9e18-434f-ad57-00ed0eea03f3"
      },
      "execution_count": null,
      "outputs": [
        {
          "output_type": "execute_result",
          "data": {
            "text/plain": [
              "tensor(7)"
            ]
          },
          "metadata": {},
          "execution_count": 3
        }
      ]
    },
    {
      "cell_type": "code",
      "source": [
        "scalar.ndim"
      ],
      "metadata": {
        "colab": {
          "base_uri": "https://localhost:8080/"
        },
        "id": "SKwwlJo6SDf_",
        "outputId": "9ebcfd5a-e326-46dd-edd5-66241c6ff427"
      },
      "execution_count": null,
      "outputs": [
        {
          "output_type": "execute_result",
          "data": {
            "text/plain": [
              "0"
            ]
          },
          "metadata": {},
          "execution_count": 4
        }
      ]
    },
    {
      "cell_type": "code",
      "source": [
        "# get tensor back as python int\n",
        "scalar.item()"
      ],
      "metadata": {
        "colab": {
          "base_uri": "https://localhost:8080/"
        },
        "id": "qlQx-jeqSFl4",
        "outputId": "fcd4ddbc-dc49-478f-e8b3-e6b0496da0da"
      },
      "execution_count": null,
      "outputs": [
        {
          "output_type": "execute_result",
          "data": {
            "text/plain": [
              "7"
            ]
          },
          "metadata": {},
          "execution_count": 5
        }
      ]
    },
    {
      "cell_type": "code",
      "source": [
        "#Vector\n",
        "vector = torch.tensor([7,7])\n",
        "vector"
      ],
      "metadata": {
        "colab": {
          "base_uri": "https://localhost:8080/"
        },
        "id": "5Y7fnU7HSPQC",
        "outputId": "7fbb7493-1c47-4249-ad09-1972a204aa01"
      },
      "execution_count": null,
      "outputs": [
        {
          "output_type": "execute_result",
          "data": {
            "text/plain": [
              "tensor([7, 7])"
            ]
          },
          "metadata": {},
          "execution_count": 6
        }
      ]
    },
    {
      "cell_type": "code",
      "source": [
        "vector.ndim # no. of pairs of closing square brackets"
      ],
      "metadata": {
        "colab": {
          "base_uri": "https://localhost:8080/"
        },
        "id": "Ak6KcCqNSVc_",
        "outputId": "4d1e8102-990f-458b-bc6f-939d3b9f95d6"
      },
      "execution_count": null,
      "outputs": [
        {
          "output_type": "execute_result",
          "data": {
            "text/plain": [
              "1"
            ]
          },
          "metadata": {},
          "execution_count": 7
        }
      ]
    },
    {
      "cell_type": "code",
      "source": [
        "vector.shape"
      ],
      "metadata": {
        "colab": {
          "base_uri": "https://localhost:8080/"
        },
        "id": "340wcgScSZKS",
        "outputId": "c17540a5-7386-45ab-be1e-c6b617636762"
      },
      "execution_count": null,
      "outputs": [
        {
          "output_type": "execute_result",
          "data": {
            "text/plain": [
              "torch.Size([2])"
            ]
          },
          "metadata": {},
          "execution_count": 8
        }
      ]
    },
    {
      "cell_type": "markdown",
      "source": [
        "Scalar - 0 - lower(a)\n",
        "Vector - 1 - lower(y)\n",
        "Matrix - 2 - Upper(Q)\n",
        "Tensor - n - Upper(X)\n",
        "Here, numbers are the dimensions"
      ],
      "metadata": {
        "id": "SYsOUKazWzlA"
      }
    },
    {
      "cell_type": "markdown",
      "source": [],
      "metadata": {
        "id": "tUCtB26hWtsI"
      }
    },
    {
      "cell_type": "code",
      "source": [
        "# Matrix\n",
        "Matrix = torch.tensor([[7,8],[9,10]])\n",
        "Matrix"
      ],
      "metadata": {
        "colab": {
          "base_uri": "https://localhost:8080/"
        },
        "id": "sUyBe20bSuRu",
        "outputId": "23cb4f46-4c19-407c-9ae9-e00d3c441635"
      },
      "execution_count": null,
      "outputs": [
        {
          "output_type": "execute_result",
          "data": {
            "text/plain": [
              "tensor([[ 7,  8],\n",
              "        [ 9, 10]])"
            ]
          },
          "metadata": {},
          "execution_count": 9
        }
      ]
    },
    {
      "cell_type": "code",
      "source": [
        "Matrix.ndim # 2 square brackets"
      ],
      "metadata": {
        "colab": {
          "base_uri": "https://localhost:8080/"
        },
        "id": "k55_Q72rUyB2",
        "outputId": "64888f5b-d692-4783-80a8-4cbc97ba3953"
      },
      "execution_count": null,
      "outputs": [
        {
          "output_type": "execute_result",
          "data": {
            "text/plain": [
              "2"
            ]
          },
          "metadata": {},
          "execution_count": 10
        }
      ]
    },
    {
      "cell_type": "code",
      "source": [
        "Matrix[1]"
      ],
      "metadata": {
        "colab": {
          "base_uri": "https://localhost:8080/"
        },
        "id": "vMAQrdBAU1nT",
        "outputId": "324693a1-56de-44db-e0a2-323badc8bb67"
      },
      "execution_count": null,
      "outputs": [
        {
          "output_type": "execute_result",
          "data": {
            "text/plain": [
              "tensor([ 9, 10])"
            ]
          },
          "metadata": {},
          "execution_count": 11
        }
      ]
    },
    {
      "cell_type": "code",
      "source": [
        "Matrix[0][1]"
      ],
      "metadata": {
        "colab": {
          "base_uri": "https://localhost:8080/"
        },
        "id": "uUty5a1RU7Nq",
        "outputId": "a51ad095-561f-43ae-f477-775c101b207e"
      },
      "execution_count": null,
      "outputs": [
        {
          "output_type": "execute_result",
          "data": {
            "text/plain": [
              "tensor(8)"
            ]
          },
          "metadata": {},
          "execution_count": 12
        }
      ]
    },
    {
      "cell_type": "code",
      "source": [
        "Matrix.shape # basically a 2*2 matrix here"
      ],
      "metadata": {
        "colab": {
          "base_uri": "https://localhost:8080/"
        },
        "id": "0Gma3NB0U9bE",
        "outputId": "c12ac445-4dd7-4587-dd14-9284cd9f97ac"
      },
      "execution_count": null,
      "outputs": [
        {
          "output_type": "execute_result",
          "data": {
            "text/plain": [
              "torch.Size([2, 2])"
            ]
          },
          "metadata": {},
          "execution_count": 13
        }
      ]
    },
    {
      "cell_type": "code",
      "source": [
        "# TENSOR\n",
        "TENSOR = torch.tensor([[[1,2,3],[3,6,9],[2,4,5]]])\n",
        "TENSOR"
      ],
      "metadata": {
        "colab": {
          "base_uri": "https://localhost:8080/"
        },
        "id": "FV62_9cVVAhk",
        "outputId": "21298a38-b09b-40b4-94ba-524882459809"
      },
      "execution_count": null,
      "outputs": [
        {
          "output_type": "execute_result",
          "data": {
            "text/plain": [
              "tensor([[[1, 2, 3],\n",
              "         [3, 6, 9],\n",
              "         [2, 4, 5]]])"
            ]
          },
          "metadata": {},
          "execution_count": 14
        }
      ]
    },
    {
      "cell_type": "code",
      "source": [
        "TENSOR.ndim # dim is 0-indexed"
      ],
      "metadata": {
        "colab": {
          "base_uri": "https://localhost:8080/"
        },
        "id": "kHqEhn_kVpJL",
        "outputId": "59942a98-f6b8-4ea8-f43c-aaf79d488695"
      },
      "execution_count": null,
      "outputs": [
        {
          "output_type": "execute_result",
          "data": {
            "text/plain": [
              "3"
            ]
          },
          "metadata": {},
          "execution_count": 15
        }
      ]
    },
    {
      "cell_type": "code",
      "source": [
        "TENSOR.shape"
      ],
      "metadata": {
        "colab": {
          "base_uri": "https://localhost:8080/"
        },
        "id": "nbBykpQSVqr3",
        "outputId": "685d1757-9e7f-403f-dc2d-71e9a831874a"
      },
      "execution_count": null,
      "outputs": [
        {
          "output_type": "execute_result",
          "data": {
            "text/plain": [
              "torch.Size([1, 3, 3])"
            ]
          },
          "metadata": {},
          "execution_count": 16
        }
      ]
    },
    {
      "cell_type": "code",
      "source": [
        "TENSOR[0]"
      ],
      "metadata": {
        "colab": {
          "base_uri": "https://localhost:8080/"
        },
        "id": "Pb5OfJoxVtYh",
        "outputId": "82553463-1999-4924-bf03-fde01ddca8d2"
      },
      "execution_count": null,
      "outputs": [
        {
          "output_type": "execute_result",
          "data": {
            "text/plain": [
              "tensor([[1, 2, 3],\n",
              "        [3, 6, 9],\n",
              "        [2, 4, 5]])"
            ]
          },
          "metadata": {},
          "execution_count": 17
        }
      ]
    },
    {
      "cell_type": "markdown",
      "source": [
        "### Random Tensors\n",
        "\n",
        "Why random tensors?\n",
        "\n",
        "Random Tensors are important becuase the way neural networks learn is that they start with tensors full iof random numbers and then adjust those random numbers to better represent the data."
      ],
      "metadata": {
        "id": "utPZc4aDXb1x"
      }
    },
    {
      "cell_type": "code",
      "source": [
        "random_tensor = torch.rand(3,4) # we specified the size that is shape\n",
        "random_tensor"
      ],
      "metadata": {
        "colab": {
          "base_uri": "https://localhost:8080/"
        },
        "id": "4Ql-hRGGX1Bw",
        "outputId": "08c373f5-c471-47ff-fd08-a32e88c8959a"
      },
      "execution_count": null,
      "outputs": [
        {
          "output_type": "execute_result",
          "data": {
            "text/plain": [
              "tensor([[0.2988, 0.0365, 0.3157, 0.7265],\n",
              "        [0.8630, 0.3908, 0.7570, 0.8156],\n",
              "        [0.7160, 0.9990, 0.7969, 0.7800]])"
            ]
          },
          "metadata": {},
          "execution_count": 20
        }
      ]
    },
    {
      "cell_type": "code",
      "source": [
        "random_tensor.ndim"
      ],
      "metadata": {
        "colab": {
          "base_uri": "https://localhost:8080/"
        },
        "id": "O3grZxYEYETt",
        "outputId": "a2c655e9-1080-47ab-a856-892134e740e0"
      },
      "execution_count": null,
      "outputs": [
        {
          "output_type": "execute_result",
          "data": {
            "text/plain": [
              "2"
            ]
          },
          "metadata": {},
          "execution_count": 21
        }
      ]
    },
    {
      "cell_type": "code",
      "source": [
        "rand_tensor = torch.rand(1,5,5)\n",
        "rand_tensor"
      ],
      "metadata": {
        "colab": {
          "base_uri": "https://localhost:8080/"
        },
        "id": "vbLka3d5YJyV",
        "outputId": "41bf0893-fefc-45df-f540-a3120a11f877"
      },
      "execution_count": null,
      "outputs": [
        {
          "output_type": "execute_result",
          "data": {
            "text/plain": [
              "tensor([[[0.3948, 0.5550, 0.2665, 0.3256, 0.4947],\n",
              "         [0.0307, 0.3060, 0.7788, 0.8254, 0.7337],\n",
              "         [0.1214, 0.2776, 0.4495, 0.1491, 0.9837],\n",
              "         [0.3425, 0.3758, 0.0104, 0.3020, 0.8337],\n",
              "         [0.5469, 0.9163, 0.8651, 0.0262, 0.4038]]])"
            ]
          },
          "metadata": {},
          "execution_count": 22
        }
      ]
    },
    {
      "cell_type": "code",
      "source": [
        "rand_tensor.ndim"
      ],
      "metadata": {
        "colab": {
          "base_uri": "https://localhost:8080/"
        },
        "id": "e7WLsRIZYYxm",
        "outputId": "d9f7c7b4-0619-44cf-8a08-d66c9efb926a"
      },
      "execution_count": null,
      "outputs": [
        {
          "output_type": "execute_result",
          "data": {
            "text/plain": [
              "3"
            ]
          },
          "metadata": {},
          "execution_count": 23
        }
      ]
    },
    {
      "cell_type": "code",
      "source": [
        "# Create random tensor with similar dhape to an image tensor\n",
        "rand_img_size_tensor = torch.rand(size=(224,224,3)) #(height,width,color-channels(R,G,B))\n",
        "rand_img_size_tensor.shape, rand_img_size_tensor.ndim"
      ],
      "metadata": {
        "colab": {
          "base_uri": "https://localhost:8080/"
        },
        "id": "bXRg87EdYhTp",
        "outputId": "9e294127-32f8-4bc6-b25c-4f1db4783d8c"
      },
      "execution_count": null,
      "outputs": [
        {
          "output_type": "execute_result",
          "data": {
            "text/plain": [
              "(torch.Size([224, 224, 3]), 3)"
            ]
          },
          "metadata": {},
          "execution_count": 24
        }
      ]
    },
    {
      "cell_type": "markdown",
      "source": [
        "ZEROS AND ONES"
      ],
      "metadata": {
        "id": "zR1CNloAZ-8T"
      }
    },
    {
      "cell_type": "code",
      "source": [
        "# create tensor of all zeros\n",
        "zeros = torch.zeros(size=(3,4))\n",
        "zeros"
      ],
      "metadata": {
        "colab": {
          "base_uri": "https://localhost:8080/"
        },
        "id": "6sfoO6OyaA5k",
        "outputId": "48b5f56e-4e35-4e23-f343-4aecac69948a"
      },
      "execution_count": null,
      "outputs": [
        {
          "output_type": "execute_result",
          "data": {
            "text/plain": [
              "tensor([[0., 0., 0., 0.],\n",
              "        [0., 0., 0., 0.],\n",
              "        [0., 0., 0., 0.]])"
            ]
          },
          "metadata": {},
          "execution_count": 25
        }
      ]
    },
    {
      "cell_type": "code",
      "source": [
        "zeros*random_tensor"
      ],
      "metadata": {
        "colab": {
          "base_uri": "https://localhost:8080/"
        },
        "id": "nX0EMo1xaQaL",
        "outputId": "a29b12c9-3f0c-4bd0-f3dc-5adc3228d4ea"
      },
      "execution_count": null,
      "outputs": [
        {
          "output_type": "execute_result",
          "data": {
            "text/plain": [
              "tensor([[0., 0., 0., 0.],\n",
              "        [0., 0., 0., 0.],\n",
              "        [0., 0., 0., 0.]])"
            ]
          },
          "metadata": {},
          "execution_count": 26
        }
      ]
    },
    {
      "cell_type": "code",
      "source": [
        "ones = torch.ones(size=(3,4))\n",
        "ones"
      ],
      "metadata": {
        "colab": {
          "base_uri": "https://localhost:8080/"
        },
        "id": "t9cbx66baaBa",
        "outputId": "82d1fd13-6e53-4af9-ee32-c827d994e38a"
      },
      "execution_count": null,
      "outputs": [
        {
          "output_type": "execute_result",
          "data": {
            "text/plain": [
              "tensor([[1., 1., 1., 1.],\n",
              "        [1., 1., 1., 1.],\n",
              "        [1., 1., 1., 1.]])"
            ]
          },
          "metadata": {},
          "execution_count": 27
        }
      ]
    },
    {
      "cell_type": "code",
      "source": [
        "ones.dtype"
      ],
      "metadata": {
        "colab": {
          "base_uri": "https://localhost:8080/"
        },
        "id": "ZddlRtyMahX6",
        "outputId": "6752113e-571d-4ecc-a11a-9bafa3ca4f8a"
      },
      "execution_count": null,
      "outputs": [
        {
          "output_type": "execute_result",
          "data": {
            "text/plain": [
              "torch.float32"
            ]
          },
          "metadata": {},
          "execution_count": 28
        }
      ]
    },
    {
      "cell_type": "code",
      "source": [
        "random_tensor.dtype # default is float32"
      ],
      "metadata": {
        "colab": {
          "base_uri": "https://localhost:8080/"
        },
        "id": "H2gl-Y57aiu9",
        "outputId": "4e8a77cf-6021-4da1-a0ab-775fbf366fcd"
      },
      "execution_count": null,
      "outputs": [
        {
          "output_type": "execute_result",
          "data": {
            "text/plain": [
              "torch.float32"
            ]
          },
          "metadata": {},
          "execution_count": 29
        }
      ]
    },
    {
      "cell_type": "markdown",
      "source": [
        "Creating a range of tensors and tensors-like"
      ],
      "metadata": {
        "id": "8zCAc-mJa0cc"
      }
    },
    {
      "cell_type": "code",
      "source": [
        "# Use torch.arange()\n",
        "one_to_ten = torch.arange(start=1,end=11,step=2)\n",
        "one_to_ten"
      ],
      "metadata": {
        "colab": {
          "base_uri": "https://localhost:8080/"
        },
        "id": "pFvfg24wa4mu",
        "outputId": "f42375df-8cdf-4dba-e235-a0d797b8e246"
      },
      "execution_count": null,
      "outputs": [
        {
          "output_type": "execute_result",
          "data": {
            "text/plain": [
              "tensor([1, 3, 5, 7, 9])"
            ]
          },
          "metadata": {},
          "execution_count": 31
        }
      ]
    },
    {
      "cell_type": "code",
      "source": [
        "# Creating tensors like\n",
        "ten_zeros = torch.zeros_like(input=one_to_ten)\n",
        "ten_zeros # gives same shape but with different values"
      ],
      "metadata": {
        "colab": {
          "base_uri": "https://localhost:8080/"
        },
        "id": "_WKWzAzXbJ2P",
        "outputId": "b5ddfd22-1ea8-4847-b6bb-f944d243a605"
      },
      "execution_count": null,
      "outputs": [
        {
          "output_type": "execute_result",
          "data": {
            "text/plain": [
              "tensor([0, 0, 0, 0, 0])"
            ]
          },
          "metadata": {},
          "execution_count": 32
        }
      ]
    },
    {
      "cell_type": "markdown",
      "source": [
        "TENSOR DATATYPES"
      ],
      "metadata": {
        "id": "A5wvMkmqbyk3"
      }
    },
    {
      "cell_type": "code",
      "source": [
        "# Float 32 tensor if dtype is NONE\n",
        "default_tensor = torch.tensor([3.0,6.0,9.0],dtype=None,device=None,requires_grad=False)\n",
        "default_tensor\n",
        "# device tells -> what device is my tensor on (default = cpu)\n",
        "# requires_grad -> whether or not to track the gradients of my tensor"
      ],
      "metadata": {
        "colab": {
          "base_uri": "https://localhost:8080/"
        },
        "id": "fMw3_wodb0Rn",
        "outputId": "65ff8df5-aaad-4eaf-ce62-de47841826b1"
      },
      "execution_count": null,
      "outputs": [
        {
          "output_type": "execute_result",
          "data": {
            "text/plain": [
              "tensor([3., 6., 9.])"
            ]
          },
          "metadata": {},
          "execution_count": 40
        }
      ]
    },
    {
      "cell_type": "code",
      "source": [
        "default_tensor.dtype"
      ],
      "metadata": {
        "colab": {
          "base_uri": "https://localhost:8080/"
        },
        "id": "4SsTOmPGcDGm",
        "outputId": "699a8a75-7dfd-40c6-ff86-732c18e2fbf3"
      },
      "execution_count": null,
      "outputs": [
        {
          "output_type": "execute_result",
          "data": {
            "text/plain": [
              "torch.float32"
            ]
          },
          "metadata": {},
          "execution_count": 41
        }
      ]
    },
    {
      "cell_type": "markdown",
      "source": [
        "Single Precision = Float32\n",
        "Half Precision = Float16\n",
        "Theu represent in how much detail then number is stored in memory"
      ],
      "metadata": {
        "id": "G5XU4UGpdIcN"
      }
    },
    {
      "cell_type": "code",
      "source": [
        "# can convert tensor from one datatype to another datatype\n",
        "float_16_tensor = default_tensor.type(torch.half)\n",
        "float_16_tensor"
      ],
      "metadata": {
        "colab": {
          "base_uri": "https://localhost:8080/"
        },
        "id": "mV5_4qkZcF1i",
        "outputId": "c73f9009-93ca-4e89-864d-30798fade036"
      },
      "execution_count": null,
      "outputs": [
        {
          "output_type": "execute_result",
          "data": {
            "text/plain": [
              "tensor([3., 6., 9.], dtype=torch.float16)"
            ]
          },
          "metadata": {},
          "execution_count": 42
        }
      ]
    },
    {
      "cell_type": "markdown",
      "source": [
        "Tensor Dataypes are one of the 3 big reasons that leads to errors in pytorch and deep learning.\n",
        "1. Tensors not in right datatype - tensor.dtype\n",
        "2. Tensors not in right shape - tensor.shape\n",
        "3. Tensors not on right device(like cpu, gpu, cuda) - tensor.device"
      ],
      "metadata": {
        "id": "0PgHwOU9flXI"
      }
    },
    {
      "cell_type": "code",
      "source": [
        "int_32_tensor = torch.tensor([3,6,9],dtype=torch.int32)\n",
        "int_32_tensor"
      ],
      "metadata": {
        "colab": {
          "base_uri": "https://localhost:8080/"
        },
        "id": "w47d4UsofQJT",
        "outputId": "64f6e7a5-e336-4ddc-bce2-bae7457772c2"
      },
      "execution_count": null,
      "outputs": [
        {
          "output_type": "execute_result",
          "data": {
            "text/plain": [
              "tensor([3, 6, 9], dtype=torch.int32)"
            ]
          },
          "metadata": {},
          "execution_count": 43
        }
      ]
    },
    {
      "cell_type": "code",
      "source": [
        "float_16_tensor * int_32_tensor # not works with long - this is a type of caveat"
      ],
      "metadata": {
        "colab": {
          "base_uri": "https://localhost:8080/"
        },
        "id": "9xV2CbPNgsGQ",
        "outputId": "a23be6e0-7f62-498e-9644-80afff03cf00"
      },
      "execution_count": null,
      "outputs": [
        {
          "output_type": "execute_result",
          "data": {
            "text/plain": [
              "tensor([ 9., 36., 81.], dtype=torch.float16)"
            ]
          },
          "metadata": {},
          "execution_count": 44
        }
      ]
    },
    {
      "cell_type": "markdown",
      "source": [
        " ### MAnipulating Tensors\n",
        "\n",
        "Operations Include:\n",
        "Addition\n",
        "Subtraction\n",
        "Multiplication\n",
        "Division\n",
        "Matrix Multiplication"
      ],
      "metadata": {
        "id": "MMEytZEeirmw"
      }
    },
    {
      "cell_type": "code",
      "source": [
        "tensor = torch.tensor([1,2,3])\n",
        "tensor+10"
      ],
      "metadata": {
        "colab": {
          "base_uri": "https://localhost:8080/"
        },
        "id": "tJ1gtJnnitz1",
        "outputId": "40533325-5271-414c-fd1b-8f7f5145e9db"
      },
      "execution_count": null,
      "outputs": [
        {
          "output_type": "execute_result",
          "data": {
            "text/plain": [
              "tensor([11, 12, 13])"
            ]
          },
          "metadata": {},
          "execution_count": 3
        }
      ]
    },
    {
      "cell_type": "code",
      "source": [
        "tensor*10"
      ],
      "metadata": {
        "colab": {
          "base_uri": "https://localhost:8080/"
        },
        "id": "LSXr7nVTi2TK",
        "outputId": "b48ddea0-a8f4-4a1b-e826-6943947a7d34"
      },
      "execution_count": null,
      "outputs": [
        {
          "output_type": "execute_result",
          "data": {
            "text/plain": [
              "tensor([10, 20, 30])"
            ]
          },
          "metadata": {},
          "execution_count": 48
        }
      ]
    },
    {
      "cell_type": "code",
      "source": [
        "tensor-10"
      ],
      "metadata": {
        "colab": {
          "base_uri": "https://localhost:8080/"
        },
        "id": "-ZEs4wE2i5Rt",
        "outputId": "73247469-c481-4159-b1d0-e658d9d9beec"
      },
      "execution_count": null,
      "outputs": [
        {
          "output_type": "execute_result",
          "data": {
            "text/plain": [
              "tensor([-9, -8, -7])"
            ]
          },
          "metadata": {},
          "execution_count": 49
        }
      ]
    },
    {
      "cell_type": "code",
      "source": [
        "tensor = torch.div(tensor,2)\n",
        "# similarly, there are functions like add, mul, sub.."
      ],
      "metadata": {
        "id": "Pp8jVGHojAzU"
      },
      "execution_count": null,
      "outputs": []
    },
    {
      "cell_type": "code",
      "source": [
        "tensor"
      ],
      "metadata": {
        "colab": {
          "base_uri": "https://localhost:8080/"
        },
        "id": "0w6aOWFgjX0x",
        "outputId": "2e888e64-4f9c-4871-c59c-3712a05c4055"
      },
      "execution_count": null,
      "outputs": [
        {
          "output_type": "execute_result",
          "data": {
            "text/plain": [
              "tensor([0.5000, 1.0000, 1.5000])"
            ]
          },
          "metadata": {},
          "execution_count": 51
        }
      ]
    },
    {
      "cell_type": "markdown",
      "source": [
        "### Matrix MUltiplication\n",
        "\n",
        "2 main ways of performing multiliplication in neuarl networks and deep learning\n",
        "\n",
        "1. Element wise\n",
        "2. Matrix Multiplication"
      ],
      "metadata": {
        "id": "GoDYf59Nj1eh"
      }
    },
    {
      "cell_type": "code",
      "source": [
        "# element wise\n",
        "tensor = torch.mul(tensor,2)\n",
        "tensor*tensor"
      ],
      "metadata": {
        "colab": {
          "base_uri": "https://localhost:8080/"
        },
        "id": "eTBrxgNCkHS6",
        "outputId": "cd8f3aa2-e7fc-4f84-9994-a87b37d47260"
      },
      "execution_count": null,
      "outputs": [
        {
          "output_type": "execute_result",
          "data": {
            "text/plain": [
              "tensor([1., 4., 9.])"
            ]
          },
          "metadata": {},
          "execution_count": 52
        }
      ]
    },
    {
      "cell_type": "code",
      "source": [
        "tensor.dtype"
      ],
      "metadata": {
        "colab": {
          "base_uri": "https://localhost:8080/"
        },
        "id": "TeWHPqLukZuw",
        "outputId": "9cdead3c-af6c-4313-a016-c31f12336a21"
      },
      "execution_count": null,
      "outputs": [
        {
          "output_type": "execute_result",
          "data": {
            "text/plain": [
              "torch.float32"
            ]
          },
          "metadata": {},
          "execution_count": 53
        }
      ]
    },
    {
      "cell_type": "code",
      "source": [
        "# Matrix multiplication - torch.matmul()\n",
        "torch.matmul(tensor,tensor)\n",
        "# @ symbol is also used for matrix multiplication\n"
      ],
      "metadata": {
        "colab": {
          "base_uri": "https://localhost:8080/"
        },
        "id": "R3s-Jv3ykdPh",
        "outputId": "3d5a9ae4-6b07-40a7-8a42-8ef92bb8b8aa"
      },
      "execution_count": null,
      "outputs": [
        {
          "output_type": "execute_result",
          "data": {
            "text/plain": [
              "tensor(14)"
            ]
          },
          "metadata": {},
          "execution_count": 4
        }
      ]
    },
    {
      "cell_type": "markdown",
      "source": [
        "For matrix multiplication, inner dimensions must match\n",
        "3*2 and 2*3 will work but 3*2 and 3*2 won't work\n",
        "The resulting matrix has outer dimensions of matrix.\n",
        "1. One of the most common errors in deep learning is shape error"
      ],
      "metadata": {
        "id": "-qBynKkyd1kq"
      }
    },
    {
      "cell_type": "markdown",
      "source": [
        "1. To fix out tensor shape issues , we can manipulate the shape of our tensor using a transpose.\n",
        "2. It switches the axes or dimensions of a vector"
      ],
      "metadata": {
        "id": "yOZPDFnSe-Sb"
      }
    },
    {
      "cell_type": "code",
      "source": [
        "tA = torch.tensor([[1,2],[3,4],[5,6]])\n",
        "tB = torch.tensor([[7,8],[9,10],[11,12]])"
      ],
      "metadata": {
        "id": "dSBXGZgCfRry"
      },
      "execution_count": null,
      "outputs": []
    },
    {
      "cell_type": "code",
      "source": [
        "# torch.matmul(tA,tB) -> will give error as inner dimesnions are not same\n",
        "tA.T,tA.shape\n",
        "# got the transpose of matrix A"
      ],
      "metadata": {
        "colab": {
          "base_uri": "https://localhost:8080/"
        },
        "id": "syX1RwrOft0V",
        "outputId": "679892e0-b9fd-482d-e01c-2d975ccee7c4"
      },
      "execution_count": null,
      "outputs": [
        {
          "output_type": "execute_result",
          "data": {
            "text/plain": [
              "(tensor([[1, 3, 5],\n",
              "         [2, 4, 6]]),\n",
              " torch.Size([3, 2]))"
            ]
          },
          "metadata": {},
          "execution_count": 7
        }
      ]
    },
    {
      "cell_type": "code",
      "source": [
        "torch.matmul(tA.T,tB)"
      ],
      "metadata": {
        "colab": {
          "base_uri": "https://localhost:8080/"
        },
        "id": "h-7uKTyDfxjW",
        "outputId": "70bf76ec-1616-4530-b9db-c3c93dbe5ea1"
      },
      "execution_count": null,
      "outputs": [
        {
          "output_type": "execute_result",
          "data": {
            "text/plain": [
              "tensor([[ 89,  98],\n",
              "        [116, 128]])"
            ]
          },
          "metadata": {},
          "execution_count": 9
        }
      ]
    },
    {
      "cell_type": "code",
      "source": [
        "torch.matmul(tA,tB.T)"
      ],
      "metadata": {
        "colab": {
          "base_uri": "https://localhost:8080/"
        },
        "id": "_cbZDr01gHF7",
        "outputId": "38d346b5-6e44-43b4-cd83-15ee7861a5d4"
      },
      "execution_count": null,
      "outputs": [
        {
          "output_type": "execute_result",
          "data": {
            "text/plain": [
              "tensor([[ 23,  29,  35],\n",
              "        [ 53,  67,  81],\n",
              "        [ 83, 105, 127]])"
            ]
          },
          "metadata": {},
          "execution_count": 10
        }
      ]
    },
    {
      "cell_type": "markdown",
      "source": [
        "### Finding min, max,mean,sum,etc (Tensor Aggregation)"
      ],
      "metadata": {
        "id": "v5aUTRQfg1LF"
      }
    },
    {
      "cell_type": "code",
      "source": [
        "x = torch.arange(0,100,10)\n",
        "x\n",
        "x.dtype"
      ],
      "metadata": {
        "colab": {
          "base_uri": "https://localhost:8080/"
        },
        "id": "TBa_j4nfg7yd",
        "outputId": "b039ea76-240c-487c-dbf3-8d5a82c7ba1e"
      },
      "execution_count": null,
      "outputs": [
        {
          "output_type": "execute_result",
          "data": {
            "text/plain": [
              "torch.int64"
            ]
          },
          "metadata": {},
          "execution_count": 16
        }
      ]
    },
    {
      "cell_type": "code",
      "source": [
        "torch.min(x), x.min() # get min"
      ],
      "metadata": {
        "colab": {
          "base_uri": "https://localhost:8080/"
        },
        "id": "BiwpqzsQhEMO",
        "outputId": "0a02e39f-7ed2-4cbd-ac5b-2164be13923e"
      },
      "execution_count": null,
      "outputs": [
        {
          "output_type": "execute_result",
          "data": {
            "text/plain": [
              "(tensor(0), tensor(0))"
            ]
          },
          "metadata": {},
          "execution_count": 14
        }
      ]
    },
    {
      "cell_type": "code",
      "source": [
        "torch.max(x), x.max() # get max"
      ],
      "metadata": {
        "colab": {
          "base_uri": "https://localhost:8080/"
        },
        "id": "_kMVlkVshRHQ",
        "outputId": "62e53031-5f6b-4f4a-ea31-c4feb5e5ac30"
      },
      "execution_count": null,
      "outputs": [
        {
          "output_type": "execute_result",
          "data": {
            "text/plain": [
              "(tensor(90), tensor(90))"
            ]
          },
          "metadata": {},
          "execution_count": 15
        }
      ]
    },
    {
      "cell_type": "code",
      "source": [
        "torch.mean(x.type(torch.float32)), x.type(torch.float32).mean()\n",
        "# for mean to work, dtype should be either floating point or complex types, Integers won't work."
      ],
      "metadata": {
        "colab": {
          "base_uri": "https://localhost:8080/"
        },
        "id": "EYD0tnIghUep",
        "outputId": "47253760-ddbc-445c-c677-9941b58954f5"
      },
      "execution_count": null,
      "outputs": [
        {
          "output_type": "execute_result",
          "data": {
            "text/plain": [
              "(tensor(45.), tensor(45.))"
            ]
          },
          "metadata": {},
          "execution_count": 18
        }
      ]
    },
    {
      "cell_type": "code",
      "source": [
        "torch.sum(x), x.sum()"
      ],
      "metadata": {
        "colab": {
          "base_uri": "https://localhost:8080/"
        },
        "id": "FeC7DkCtiKiK",
        "outputId": "c3ef7a92-e695-4852-fd91-36638ae925dd"
      },
      "execution_count": null,
      "outputs": [
        {
          "output_type": "execute_result",
          "data": {
            "text/plain": [
              "(tensor(450), tensor(450))"
            ]
          },
          "metadata": {},
          "execution_count": 19
        }
      ]
    },
    {
      "cell_type": "markdown",
      "source": [
        "### finding positional min and max"
      ],
      "metadata": {
        "id": "QH17pnTIjT1x"
      }
    },
    {
      "cell_type": "code",
      "source": [
        "# getting the index at which maximuma nd minimum occurs in the tensor\n",
        "x.argmin()"
      ],
      "metadata": {
        "colab": {
          "base_uri": "https://localhost:8080/"
        },
        "id": "LoCyS4bJiyV6",
        "outputId": "4ad588cc-c5c6-4a9e-8be9-4e03a5ba460b"
      },
      "execution_count": null,
      "outputs": [
        {
          "output_type": "execute_result",
          "data": {
            "text/plain": [
              "tensor(0)"
            ]
          },
          "metadata": {},
          "execution_count": 20
        }
      ]
    },
    {
      "cell_type": "code",
      "source": [
        "x.argmax()"
      ],
      "metadata": {
        "colab": {
          "base_uri": "https://localhost:8080/"
        },
        "id": "JWRWEgBJjfbk",
        "outputId": "783091d0-04c4-4d31-dc23-6a05cdcf1d26"
      },
      "execution_count": null,
      "outputs": [
        {
          "output_type": "execute_result",
          "data": {
            "text/plain": [
              "tensor(9)"
            ]
          },
          "metadata": {},
          "execution_count": 21
        }
      ]
    },
    {
      "cell_type": "markdown",
      "source": [
        "### Reshaping, Viewing and Stacking\n",
        "1. Reshaping - reshapes an input tensor to a defined shape\n",
        "2. View - Return a view of an input tensor of certain shape but keep the same memory as the original vector(a different perspective of viewing the tensor)\n",
        "3. Stacking - combine multiple tensors on top of each other(vstack) or side by side(hstack)"
      ],
      "metadata": {
        "id": "Qf3_grv8jr4_"
      }
    },
    {
      "cell_type": "code",
      "source": [
        "x = torch.arange(1,10)\n",
        "x, x.shape"
      ],
      "metadata": {
        "colab": {
          "base_uri": "https://localhost:8080/"
        },
        "id": "h1iqgdd0jgnE",
        "outputId": "57459a09-325e-47aa-eeec-1f9701d888f3"
      },
      "execution_count": null,
      "outputs": [
        {
          "output_type": "execute_result",
          "data": {
            "text/plain": [
              "(tensor([1, 2, 3, 4, 5, 6, 7, 8, 9]), torch.Size([9]))"
            ]
          },
          "metadata": {},
          "execution_count": 22
        }
      ]
    },
    {
      "cell_type": "code",
      "source": [
        "x_reshape = x.reshape(9,1)\n",
        "x_reshape, x_reshape.shape"
      ],
      "metadata": {
        "colab": {
          "base_uri": "https://localhost:8080/"
        },
        "id": "02NNK8tZlr6M",
        "outputId": "fcae02b5-8ba6-47ae-f1ea-24236ddd07ec"
      },
      "execution_count": null,
      "outputs": [
        {
          "output_type": "execute_result",
          "data": {
            "text/plain": [
              "(tensor([[1],\n",
              "         [2],\n",
              "         [3],\n",
              "         [4],\n",
              "         [5],\n",
              "         [6],\n",
              "         [7],\n",
              "         [8],\n",
              "         [9]]),\n",
              " torch.Size([9, 1]))"
            ]
          },
          "metadata": {},
          "execution_count": 24
        }
      ]
    },
    {
      "cell_type": "code",
      "source": [
        "x_reshape = x.reshape(1,9)\n",
        "x_reshape, x_reshape.shape"
      ],
      "metadata": {
        "colab": {
          "base_uri": "https://localhost:8080/"
        },
        "id": "eF30vve9lzWh",
        "outputId": "ddcf83f0-b148-4677-be9f-9db96c9ce3db"
      },
      "execution_count": null,
      "outputs": [
        {
          "output_type": "execute_result",
          "data": {
            "text/plain": [
              "(tensor([[1, 2, 3, 4, 5, 6, 7, 8, 9]]), torch.Size([1, 9]))"
            ]
          },
          "metadata": {},
          "execution_count": 25
        }
      ]
    },
    {
      "cell_type": "code",
      "source": [
        "# change the view\n",
        "z = x.view(1,9)\n",
        "z, z.shape\n",
        "# it is quite similar to reshape but shares the same memory with x"
      ],
      "metadata": {
        "colab": {
          "base_uri": "https://localhost:8080/"
        },
        "id": "9eMz3NeEl-CP",
        "outputId": "7859613d-2248-49c7-a963-4bdf8e6e0e2f"
      },
      "execution_count": null,
      "outputs": [
        {
          "output_type": "execute_result",
          "data": {
            "text/plain": [
              "(tensor([[1, 2, 3, 4, 5, 6, 7, 8, 9]]), torch.Size([1, 9]))"
            ]
          },
          "metadata": {},
          "execution_count": 26
        }
      ]
    },
    {
      "cell_type": "code",
      "source": [
        "# changing z changes the x\n",
        "z[:,0] = 5\n",
        "z,x"
      ],
      "metadata": {
        "colab": {
          "base_uri": "https://localhost:8080/"
        },
        "id": "ot7H6wC8m86U",
        "outputId": "7cdfe70e-3d47-496c-a9dc-fcfaa0b8a584"
      },
      "execution_count": null,
      "outputs": [
        {
          "output_type": "execute_result",
          "data": {
            "text/plain": [
              "(tensor([[5, 2, 3, 4, 5, 6, 7, 8, 9]]), tensor([5, 2, 3, 4, 5, 6, 7, 8, 9]))"
            ]
          },
          "metadata": {},
          "execution_count": 27
        }
      ]
    },
    {
      "cell_type": "code",
      "source": [
        "# stack tensors on top\n",
        "x_stacked = torch.stack([x,x,x,x],dim=0)\n",
        "x_stacked\n",
        "# dim = 0 stacks tensors vertically"
      ],
      "metadata": {
        "colab": {
          "base_uri": "https://localhost:8080/"
        },
        "id": "Lvq8kJ4VnPhr",
        "outputId": "c696f876-f429-4590-ed89-2ebe2392234d"
      },
      "execution_count": null,
      "outputs": [
        {
          "output_type": "execute_result",
          "data": {
            "text/plain": [
              "tensor([[5, 2, 3, 4, 5, 6, 7, 8, 9],\n",
              "        [5, 2, 3, 4, 5, 6, 7, 8, 9],\n",
              "        [5, 2, 3, 4, 5, 6, 7, 8, 9],\n",
              "        [5, 2, 3, 4, 5, 6, 7, 8, 9]])"
            ]
          },
          "metadata": {},
          "execution_count": 28
        }
      ]
    },
    {
      "cell_type": "code",
      "source": [
        "# stack tensors horizontally\n",
        "x_stacked = torch.stack([x,x,x,x],dim=1)\n",
        "x_stacked\n",
        "# dim=1 stacks tensors horizontally"
      ],
      "metadata": {
        "colab": {
          "base_uri": "https://localhost:8080/"
        },
        "id": "tQOxkHDent19",
        "outputId": "fd463220-761f-44bf-b4e9-73df339f597f"
      },
      "execution_count": null,
      "outputs": [
        {
          "output_type": "execute_result",
          "data": {
            "text/plain": [
              "tensor([[5, 5, 5, 5],\n",
              "        [2, 2, 2, 2],\n",
              "        [3, 3, 3, 3],\n",
              "        [4, 4, 4, 4],\n",
              "        [5, 5, 5, 5],\n",
              "        [6, 6, 6, 6],\n",
              "        [7, 7, 7, 7],\n",
              "        [8, 8, 8, 8],\n",
              "        [9, 9, 9, 9]])"
            ]
          },
          "metadata": {},
          "execution_count": 29
        }
      ]
    },
    {
      "cell_type": "markdown",
      "source": [
        "### Squuezing, Unsqueezing and permutting the tensors"
      ],
      "metadata": {
        "id": "TNdoXNFEoKD4"
      }
    },
    {
      "cell_type": "code",
      "source": [
        "# torch.squueze() -> removes all single dimensions from a target tensor\n",
        "x_reshape.shape, x_reshape.squeeze().shape"
      ],
      "metadata": {
        "colab": {
          "base_uri": "https://localhost:8080/"
        },
        "id": "Q6Dia5CDoQmQ",
        "outputId": "df30535e-916c-4d97-f75b-1257b8bb8357"
      },
      "execution_count": null,
      "outputs": [
        {
          "output_type": "execute_result",
          "data": {
            "text/plain": [
              "(torch.Size([1, 9]), torch.Size([9]))"
            ]
          },
          "metadata": {},
          "execution_count": 30
        }
      ]
    },
    {
      "cell_type": "code",
      "source": [
        "x_reshape = x_reshape.squeeze()# removed the outer square bracket which was of dimension 1\n",
        "x_reshape"
      ],
      "metadata": {
        "colab": {
          "base_uri": "https://localhost:8080/"
        },
        "id": "f4y1xbnioxUP",
        "outputId": "941d90fc-b896-45fa-a55b-56c3e5a6e17f"
      },
      "execution_count": null,
      "outputs": [
        {
          "output_type": "execute_result",
          "data": {
            "text/plain": [
              "tensor([5, 2, 3, 4, 5, 6, 7, 8, 9])"
            ]
          },
          "metadata": {},
          "execution_count": 34
        }
      ]
    },
    {
      "cell_type": "code",
      "source": [
        "# torch.unsqueeze() -> adds a single dimension to a target tensor at a specific dim(dimension)\n",
        "# dim specifies where that single dimesion going to be added\n",
        "x_unsqueeze = x_reshape.unsqueeze(dim=0)\n",
        "x_unsqueeze"
      ],
      "metadata": {
        "colab": {
          "base_uri": "https://localhost:8080/"
        },
        "id": "SIgwDskCozvY",
        "outputId": "e260a126-65ba-4de9-8e7b-2e1426e41a9e"
      },
      "execution_count": null,
      "outputs": [
        {
          "output_type": "execute_result",
          "data": {
            "text/plain": [
              "tensor([[5, 2, 3, 4, 5, 6, 7, 8, 9]])"
            ]
          },
          "metadata": {},
          "execution_count": 35
        }
      ]
    },
    {
      "cell_type": "code",
      "source": [
        "x_unsqueeze = x_reshape.unsqueeze(dim=1)\n",
        "x_unsqueeze"
      ],
      "metadata": {
        "colab": {
          "base_uri": "https://localhost:8080/"
        },
        "id": "iBs0syvtqSKE",
        "outputId": "64d28632-0545-4691-a428-7a02b2008579"
      },
      "execution_count": null,
      "outputs": [
        {
          "output_type": "execute_result",
          "data": {
            "text/plain": [
              "tensor([[5],\n",
              "        [2],\n",
              "        [3],\n",
              "        [4],\n",
              "        [5],\n",
              "        [6],\n",
              "        [7],\n",
              "        [8],\n",
              "        [9]])"
            ]
          },
          "metadata": {},
          "execution_count": 36
        }
      ]
    },
    {
      "cell_type": "code",
      "source": [
        "# torch.permute() -> rearranges the dimensions of a target tensor in a specified oerder\n",
        "x_original = torch.rand(size=(224,224,3)) #(height,width,color_channels)\n",
        "\n",
        "# permute the org_tensor to rearrange the axis(or dim) order\n",
        "x_permute = x_original.permute(2,0,1) # shifts axis 0->1,1->2,2->1"
      ],
      "metadata": {
        "id": "5dIvLNeQqYGD"
      },
      "execution_count": null,
      "outputs": []
    },
    {
      "cell_type": "code",
      "source": [
        "x_permute.shape #shares the same space in memory with x_original as it is a kind of view only"
      ],
      "metadata": {
        "colab": {
          "base_uri": "https://localhost:8080/"
        },
        "id": "gzOhEv-DsDfm",
        "outputId": "ae8491bc-13b9-4dc2-9b43-5e34a5c6c204"
      },
      "execution_count": null,
      "outputs": [
        {
          "output_type": "execute_result",
          "data": {
            "text/plain": [
              "torch.Size([3, 224, 224])"
            ]
          },
          "metadata": {},
          "execution_count": 39
        }
      ]
    },
    {
      "cell_type": "markdown",
      "source": [
        "### Selecting data from tensors(Indexing)"
      ],
      "metadata": {
        "id": "-ezEnVgysmyj"
      }
    },
    {
      "cell_type": "code",
      "source": [
        "x = torch.arange(1,10).reshape(1,3,3) # as total 9 elements are present\n",
        "x, x.shape"
      ],
      "metadata": {
        "colab": {
          "base_uri": "https://localhost:8080/"
        },
        "id": "jSaD1W4zsvxo",
        "outputId": "c793a513-c7b6-4b2c-a2ff-5506121aea14"
      },
      "execution_count": null,
      "outputs": [
        {
          "output_type": "execute_result",
          "data": {
            "text/plain": [
              "(tensor([[[1, 2, 3],\n",
              "          [4, 5, 6],\n",
              "          [7, 8, 9]]]),\n",
              " torch.Size([1, 3, 3]))"
            ]
          },
          "metadata": {},
          "execution_count": 40
        }
      ]
    },
    {
      "cell_type": "code",
      "source": [
        "# let's index our tensor\n",
        "x[0]"
      ],
      "metadata": {
        "colab": {
          "base_uri": "https://localhost:8080/"
        },
        "id": "RYjjzSUYtO15",
        "outputId": "133cf010-02e2-4101-ee25-7efcf39880f2"
      },
      "execution_count": null,
      "outputs": [
        {
          "output_type": "execute_result",
          "data": {
            "text/plain": [
              "tensor([[1, 2, 3],\n",
              "        [4, 5, 6],\n",
              "        [7, 8, 9]])"
            ]
          },
          "metadata": {},
          "execution_count": 41
        }
      ]
    },
    {
      "cell_type": "code",
      "source": [
        "x[0][0]"
      ],
      "metadata": {
        "colab": {
          "base_uri": "https://localhost:8080/"
        },
        "id": "-DFwgwBxtVUc",
        "outputId": "00eb6104-0003-49ba-df89-4e0750e56526"
      },
      "execution_count": null,
      "outputs": [
        {
          "output_type": "execute_result",
          "data": {
            "text/plain": [
              "tensor([1, 2, 3])"
            ]
          },
          "metadata": {},
          "execution_count": 42
        }
      ]
    },
    {
      "cell_type": "code",
      "source": [
        "#let's index on most inner bracket(last dimension)\n",
        "x[0][0][2]"
      ],
      "metadata": {
        "colab": {
          "base_uri": "https://localhost:8080/"
        },
        "id": "oAYklr9ptXPD",
        "outputId": "6b53d185-dff6-4fc2-aa65-b01a96985eb4"
      },
      "execution_count": null,
      "outputs": [
        {
          "output_type": "execute_result",
          "data": {
            "text/plain": [
              "tensor(3)"
            ]
          },
          "metadata": {},
          "execution_count": 44
        }
      ]
    },
    {
      "cell_type": "code",
      "source": [
        "# we can use \":\" to select \"all\" of a target dimension\n",
        "x[:,0]"
      ],
      "metadata": {
        "colab": {
          "base_uri": "https://localhost:8080/"
        },
        "id": "_0GCxlKRtlFw",
        "outputId": "5cf7f42d-1930-4108-f66e-cda6de8e5d4b"
      },
      "execution_count": null,
      "outputs": [
        {
          "output_type": "execute_result",
          "data": {
            "text/plain": [
              "tensor([[1, 2, 3]])"
            ]
          },
          "metadata": {},
          "execution_count": 45
        }
      ]
    },
    {
      "cell_type": "code",
      "source": [
        "x[:,:,1]"
      ],
      "metadata": {
        "colab": {
          "base_uri": "https://localhost:8080/"
        },
        "id": "0_QHPUx8t8Ch",
        "outputId": "39fbc8a1-f097-4ce1-f1e2-263ba5292ac6"
      },
      "execution_count": null,
      "outputs": [
        {
          "output_type": "execute_result",
          "data": {
            "text/plain": [
              "tensor([[2, 5, 8]])"
            ]
          },
          "metadata": {},
          "execution_count": 46
        }
      ]
    },
    {
      "cell_type": "code",
      "source": [
        "x[:,1,1]\n",
        "# get all valies of the 0 dimension but only 1 index value of 1st and 2nd dimension"
      ],
      "metadata": {
        "colab": {
          "base_uri": "https://localhost:8080/"
        },
        "id": "2ThswwJpuBGV",
        "outputId": "aef98679-a5ff-4a9a-daee-2afa9ad78c61"
      },
      "execution_count": null,
      "outputs": [
        {
          "output_type": "execute_result",
          "data": {
            "text/plain": [
              "tensor([5])"
            ]
          },
          "metadata": {},
          "execution_count": 47
        }
      ]
    },
    {
      "cell_type": "code",
      "source": [
        "x[0,0,:]"
      ],
      "metadata": {
        "colab": {
          "base_uri": "https://localhost:8080/"
        },
        "id": "ZHPKzKpyu4RL",
        "outputId": "4810f4ae-9ac2-45b0-9017-b77f991a13ac"
      },
      "execution_count": null,
      "outputs": [
        {
          "output_type": "execute_result",
          "data": {
            "text/plain": [
              "tensor([1, 2, 3])"
            ]
          },
          "metadata": {},
          "execution_count": 48
        }
      ]
    },
    {
      "cell_type": "markdown",
      "source": [
        "### Pytorch and Numpy\n",
        "1. Numpy is a popular scientific python numerical computing library\n",
        "2. And bcoz. of this, Pytorch has functionality to interact with it\n",
        "3. Data in Numpy, want in PyTorch Tensor -> torch.from_numpy(ndarray)\n",
        "4. Pytorch tensor->Numpy : torch.tensor.numpy()"
      ],
      "metadata": {
        "id": "Hj-di2S3vePg"
      }
    },
    {
      "cell_type": "code",
      "source": [
        "array = np.arange(1.0,8.0) # default dtype id float64\n",
        "tensor = torch.from_numpy(array)\n",
        "array, tensor, tensor.dtype"
      ],
      "metadata": {
        "colab": {
          "base_uri": "https://localhost:8080/"
        },
        "id": "2sR_ftI7vNzk",
        "outputId": "495d510f-5fb2-4654-8c09-e6c4af7f94a4"
      },
      "execution_count": null,
      "outputs": [
        {
          "output_type": "execute_result",
          "data": {
            "text/plain": [
              "(array([1., 2., 3., 4., 5., 6., 7.]),\n",
              " tensor([1., 2., 3., 4., 5., 6., 7.], dtype=torch.float64),\n",
              " torch.float64)"
            ]
          },
          "metadata": {},
          "execution_count": 50
        }
      ]
    },
    {
      "cell_type": "code",
      "source": [
        "# since tensors dtype deault is float32 but it reflects the dtype of numpy while conversion\n",
        "# can explicitly convert the dtype\n",
        "tensor = torch.from_numpy(array).type(torch.float32)\n",
        "tensor.dtype"
      ],
      "metadata": {
        "colab": {
          "base_uri": "https://localhost:8080/"
        },
        "id": "JPPpI1g8wobX",
        "outputId": "11c75c9a-7f34-4dec-e265-55b161e1c0f2"
      },
      "execution_count": null,
      "outputs": [
        {
          "output_type": "execute_result",
          "data": {
            "text/plain": [
              "torch.float32"
            ]
          },
          "metadata": {},
          "execution_count": 52
        }
      ]
    },
    {
      "cell_type": "code",
      "source": [
        "# changing the value of array won't reflect the change in numpy\n",
        "array = array + 1\n",
        "array, tensor"
      ],
      "metadata": {
        "colab": {
          "base_uri": "https://localhost:8080/"
        },
        "id": "miU_i7MZwxpK",
        "outputId": "a93db274-6bb8-48a0-818b-3195a226d908"
      },
      "execution_count": null,
      "outputs": [
        {
          "output_type": "execute_result",
          "data": {
            "text/plain": [
              "(array([2., 3., 4., 5., 6., 7., 8.]), tensor([1., 2., 3., 4., 5., 6., 7.]))"
            ]
          },
          "metadata": {},
          "execution_count": 54
        }
      ]
    },
    {
      "cell_type": "code",
      "source": [
        "# Tensor to Numpy\n",
        "tensor = torch.ones(7)\n",
        "numpy_tensor = tensor.numpy()\n",
        "tensor, numpy_tensor"
      ],
      "metadata": {
        "colab": {
          "base_uri": "https://localhost:8080/"
        },
        "id": "XOBfSVymxVJC",
        "outputId": "da5f0e7d-9465-4dad-e4ed-08a9616df04d"
      },
      "execution_count": null,
      "outputs": [
        {
          "output_type": "execute_result",
          "data": {
            "text/plain": [
              "(tensor([1., 1., 1., 1., 1., 1., 1.]),\n",
              " array([1., 1., 1., 1., 1., 1., 1.], dtype=float32))"
            ]
          },
          "metadata": {},
          "execution_count": 56
        }
      ]
    },
    {
      "cell_type": "code",
      "source": [
        "numpy_tensor.dtype # reflects the original dtype of tensor"
      ],
      "metadata": {
        "colab": {
          "base_uri": "https://localhost:8080/"
        },
        "id": "r_UdYrRrxotl",
        "outputId": "1c33b66c-acc8-4245-f815-e44010491646"
      },
      "execution_count": null,
      "outputs": [
        {
          "output_type": "execute_result",
          "data": {
            "text/plain": [
              "dtype('float32')"
            ]
          },
          "metadata": {},
          "execution_count": 57
        }
      ]
    },
    {
      "cell_type": "code",
      "source": [
        "# changing the tensor won't reflect the change in numpy\n",
        "tensor = tensor + 1\n",
        "tensor, numpy_tensor"
      ],
      "metadata": {
        "colab": {
          "base_uri": "https://localhost:8080/"
        },
        "id": "iOBz-81RxxQF",
        "outputId": "94cecd28-ef47-4ae8-e16d-68bdef6eaf85"
      },
      "execution_count": null,
      "outputs": [
        {
          "output_type": "execute_result",
          "data": {
            "text/plain": [
              "(tensor([2., 2., 2., 2., 2., 2., 2.]),\n",
              " array([1., 1., 1., 1., 1., 1., 1.], dtype=float32))"
            ]
          },
          "metadata": {},
          "execution_count": 58
        }
      ]
    },
    {
      "cell_type": "markdown",
      "source": [
        "### Reproducibility(taking the random out of random)\n",
        "1. In short how neural network learns:\n",
        "start with random numbers -> update them -> try to fit to the data -> update them -> again -> again -> again....\n",
        "\n",
        "2. To reduce the randomness in neural networks and Pytorch, comes the concept of **random seed**. It flavours the randomness."
      ],
      "metadata": {
        "id": "1LXTueDlyN2K"
      }
    },
    {
      "cell_type": "code",
      "source": [
        "rand_tA = torch.rand(3,4)\n",
        "rand_tB = torch.rand(3,4)\n",
        "print(rand_tA == rand_tB)\n",
        "rand_tA, rand_tB"
      ],
      "metadata": {
        "colab": {
          "base_uri": "https://localhost:8080/"
        },
        "id": "EXMPz0H9yQX3",
        "outputId": "1a09655f-3204-4194-d715-231b94df111b"
      },
      "execution_count": null,
      "outputs": [
        {
          "output_type": "stream",
          "name": "stdout",
          "text": [
            "tensor([[False, False, False, False],\n",
            "        [False, False, False, False],\n",
            "        [False, False, False, False]])\n"
          ]
        },
        {
          "output_type": "execute_result",
          "data": {
            "text/plain": [
              "(tensor([[0.0060, 0.8775, 0.3177, 0.3162],\n",
              "         [0.4270, 0.8080, 0.1021, 0.4408],\n",
              "         [0.5747, 0.5566, 0.0356, 0.1234]]),\n",
              " tensor([[0.4631, 0.3578, 0.7556, 0.2457],\n",
              "         [0.1364, 0.6389, 0.9160, 0.3343],\n",
              "         [0.7291, 0.4616, 0.1087, 0.0147]]))"
            ]
          },
          "metadata": {},
          "execution_count": 3
        }
      ]
    },
    {
      "cell_type": "code",
      "source": [
        "# Let's make random but reproducable tensors\n",
        "\n",
        "RANDOM_SEED = 42 # flavor of randomness\n",
        "# 42 is universally chosen\n",
        "torch.manual_seed(RANDOM_SEED)\n",
        "\n",
        "rand_tC = torch.rand(3,4)\n",
        "torch.manual_seed(RANDOM_SEED)\n",
        "rand_tD = torch.rand(3,4)\n",
        "print(rand_tC == rand_tD)\n",
        "rand_tC,rand_tD\n",
        "\n",
        "# Remember -> for flavoured randomness, you should call everytime torch.manual_seed()\n",
        "# before using torch.rand"
      ],
      "metadata": {
        "colab": {
          "base_uri": "https://localhost:8080/"
        },
        "id": "haqY7x9jtCD3",
        "outputId": "e2540f03-67f4-435d-e647-6cad3cc0c3ef"
      },
      "execution_count": null,
      "outputs": [
        {
          "output_type": "stream",
          "name": "stdout",
          "text": [
            "tensor([[True, True, True, True],\n",
            "        [True, True, True, True],\n",
            "        [True, True, True, True]])\n"
          ]
        },
        {
          "output_type": "execute_result",
          "data": {
            "text/plain": [
              "(tensor([[0.8823, 0.9150, 0.3829, 0.9593],\n",
              "         [0.3904, 0.6009, 0.2566, 0.7936],\n",
              "         [0.9408, 0.1332, 0.9346, 0.5936]]),\n",
              " tensor([[0.8823, 0.9150, 0.3829, 0.9593],\n",
              "         [0.3904, 0.6009, 0.2566, 0.7936],\n",
              "         [0.9408, 0.1332, 0.9346, 0.5936]]))"
            ]
          },
          "metadata": {},
          "execution_count": 4
        }
      ]
    },
    {
      "cell_type": "markdown",
      "source": [
        "### Running Tensors and Pytorch objects on the GPU's(and making faster computations)\n",
        "\n",
        "1. GPUs = faster computation on numbers, thanks to CUDA + NVIDIAhardware + PyTorch working behind the scenes.\n",
        "\n",
        "For now, use google collab for free GPU."
      ],
      "metadata": {
        "id": "xc0xRdL9vhDU"
      }
    },
    {
      "cell_type": "code",
      "source": [
        "torch.cuda.is_available()"
      ],
      "metadata": {
        "colab": {
          "base_uri": "https://localhost:8080/"
        },
        "id": "4GVVcTmbvqAk",
        "outputId": "de6ee1d3-16b6-4cac-d96f-f8cf804e5dea"
      },
      "execution_count": null,
      "outputs": [
        {
          "output_type": "execute_result",
          "data": {
            "text/plain": [
              "True"
            ]
          },
          "metadata": {},
          "execution_count": 3
        }
      ]
    },
    {
      "cell_type": "code",
      "source": [
        " # setup device agnostic code\n",
        "device = \"cuda\" if torch.cuda.is_available() else \"cpu\"\n",
        "device"
      ],
      "metadata": {
        "colab": {
          "base_uri": "https://localhost:8080/",
          "height": 35
        },
        "id": "IMjRUY_Ow7o7",
        "outputId": "d0541258-8a48-48d1-b61a-5894dcc7ec04"
      },
      "execution_count": null,
      "outputs": [
        {
          "output_type": "execute_result",
          "data": {
            "text/plain": [
              "'cuda'"
            ],
            "application/vnd.google.colaboratory.intrinsic+json": {
              "type": "string"
            }
          },
          "metadata": {},
          "execution_count": 4
        }
      ]
    },
    {
      "cell_type": "code",
      "source": [
        "torch.cuda.device_count()"
      ],
      "metadata": {
        "colab": {
          "base_uri": "https://localhost:8080/"
        },
        "id": "Yi1e8-XMxXHH",
        "outputId": "f72c81ca-be35-4355-cead-62c1fa017803"
      },
      "execution_count": null,
      "outputs": [
        {
          "output_type": "execute_result",
          "data": {
            "text/plain": [
              "1"
            ]
          },
          "metadata": {},
          "execution_count": 5
        }
      ]
    },
    {
      "cell_type": "code",
      "source": [
        "# putting tensors and models on GPU\n",
        "# as it results in faster computations\n",
        "\n",
        "tensor = torch.tensor([1,2,3])\n",
        "print(tensor,tensor.device) # bydefault to cpu"
      ],
      "metadata": {
        "colab": {
          "base_uri": "https://localhost:8080/"
        },
        "id": "ykhC3H8_xaLX",
        "outputId": "c7a1f5a2-ecd1-4770-9f47-476972f669a7"
      },
      "execution_count": null,
      "outputs": [
        {
          "output_type": "stream",
          "name": "stdout",
          "text": [
            "tensor([1, 2, 3]) cpu\n"
          ]
        }
      ]
    },
    {
      "cell_type": "code",
      "source": [
        "# move tensor to GPU\n",
        "tensor_on_gpu = tensor.to(device)\n",
        "tensor_on_gpu\n",
        "# 0 is the index of which gpu , currently we have only one gpu"
      ],
      "metadata": {
        "colab": {
          "base_uri": "https://localhost:8080/"
        },
        "id": "ctt3kyeayGHd",
        "outputId": "f2ce8aa7-722e-44bd-96cd-ce917718113d"
      },
      "execution_count": null,
      "outputs": [
        {
          "output_type": "execute_result",
          "data": {
            "text/plain": [
              "tensor([1, 2, 3], device='cuda:0')"
            ]
          },
          "metadata": {},
          "execution_count": 7
        }
      ]
    },
    {
      "cell_type": "markdown",
      "source": [
        "### Moving Tensors back to CPU\n",
        "**If tensor is on gpu, can't transform to Numpy**"
      ],
      "metadata": {
        "id": "w_OYlwV_yj8h"
      }
    },
    {
      "cell_type": "code",
      "source": [
        "tensor_back_to_cpu = tensor_on_gpu.cpu().numpy() # first put back to cpu\n",
        "tensor_back_to_cpu"
      ],
      "metadata": {
        "colab": {
          "base_uri": "https://localhost:8080/"
        },
        "id": "1M2CgwmnyQ41",
        "outputId": "600ff4de-05d4-49d6-ae8b-fa928c8f5e58"
      },
      "execution_count": null,
      "outputs": [
        {
          "output_type": "execute_result",
          "data": {
            "text/plain": [
              "array([1, 2, 3])"
            ]
          },
          "metadata": {},
          "execution_count": 8
        }
      ]
    },
    {
      "cell_type": "code",
      "source": [
        "# can also set amnual seed on cuda\n",
        "# by torch.cuda.manual_seed(7)"
      ],
      "metadata": {
        "id": "kBIimdm23t7I"
      },
      "execution_count": null,
      "outputs": []
    }
  ]
}