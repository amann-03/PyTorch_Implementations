{
  "cells": [
    {
      "cell_type": "markdown",
      "metadata": {
        "id": "view-in-github",
        "colab_type": "text"
      },
      "source": [
        "<a href=\"https://colab.research.google.com/github/amann-03/PyTorch_Implementations/blob/main/Pytorch_WorkFlow.ipynb\" target=\"_parent\"><img src=\"https://colab.research.google.com/assets/colab-badge.svg\" alt=\"Open In Colab\"/></a>"
      ]
    },
    {
      "cell_type": "markdown",
      "metadata": {
        "id": "lTkk8j1I4Frg"
      },
      "source": [
        "###Pytorch end-to-end Workflow\n",
        "\n",
        "1. Prepare and load data\n",
        "2. Build model\n",
        "3. fitting the model to data\n",
        "4. making predictions and evaluating a model(inference)\n",
        "5. Saving and loading a model\n",
        "6. Putting it all together"
      ]
    },
    {
      "cell_type": "code",
      "execution_count": 2,
      "metadata": {
        "colab": {
          "base_uri": "https://localhost:8080/",
          "height": 35
        },
        "id": "YbHcwQ3v4gib",
        "outputId": "3d92a575-6821-4b22-fff5-8395aec61dd7"
      },
      "outputs": [
        {
          "output_type": "execute_result",
          "data": {
            "text/plain": [
              "'2.2.1+cu121'"
            ],
            "application/vnd.google.colaboratory.intrinsic+json": {
              "type": "string"
            }
          },
          "metadata": {},
          "execution_count": 2
        }
      ],
      "source": [
        "import torch\n",
        "from torch import nn\n",
        "# nn contains all Pytorch's building blocks for neural networks\n",
        "import matplotlib.pyplot as plt\n",
        "torch.__version__"
      ]
    },
    {
      "cell_type": "markdown",
      "metadata": {
        "id": "saGxdamc5Bzt"
      },
      "source": [
        "**Data preparing and Loading**\n",
        "\n",
        "Data can be almost anything:\n",
        "\n",
        "1. Excel sheet\n",
        "2. Images of any kind\n",
        "3. Videos\n",
        "4. Audio like songs or podcasts\n",
        "5. DNA, Text\n"
      ]
    },
    {
      "cell_type": "markdown",
      "metadata": {
        "id": "xZJGtI8hUGTV"
      },
      "source": [
        "**Let's use linear regression to make a straight line formula with known parameters.**"
      ]
    },
    {
      "cell_type": "code",
      "execution_count": 3,
      "metadata": {
        "colab": {
          "base_uri": "https://localhost:8080/"
        },
        "id": "ZO744xzM5UW6",
        "outputId": "d6ea2353-660a-4565-cc4a-3b936e9e20b8"
      },
      "outputs": [
        {
          "output_type": "execute_result",
          "data": {
            "text/plain": [
              "(tensor([[0.0000],\n",
              "         [0.0200],\n",
              "         [0.0400],\n",
              "         [0.0600],\n",
              "         [0.0800],\n",
              "         [0.1000],\n",
              "         [0.1200],\n",
              "         [0.1400],\n",
              "         [0.1600],\n",
              "         [0.1800]]),\n",
              " tensor([[0.3000],\n",
              "         [0.3140],\n",
              "         [0.3280],\n",
              "         [0.3420],\n",
              "         [0.3560],\n",
              "         [0.3700],\n",
              "         [0.3840],\n",
              "         [0.3980],\n",
              "         [0.4120],\n",
              "         [0.4260]]))"
            ]
          },
          "metadata": {},
          "execution_count": 3
        }
      ],
      "source": [
        "# Create *known* parameters\n",
        "weight = 0.7\n",
        "bias = 0.3\n",
        "\n",
        "# Create\n",
        "start = 0\n",
        "end = 1\n",
        "step = 0.02\n",
        "X = torch.arange(start,end,step).unsqueeze(dim=1) # data points\n",
        "y = weight * X + bias\n",
        "\n",
        "X[:10], y[:10]"
      ]
    },
    {
      "cell_type": "code",
      "execution_count": 4,
      "metadata": {
        "colab": {
          "base_uri": "https://localhost:8080/"
        },
        "id": "HNPthLjVU0X1",
        "outputId": "ccb62d79-2d29-4f35-8a50-dbaf812b7b1e"
      },
      "outputs": [
        {
          "output_type": "execute_result",
          "data": {
            "text/plain": [
              "(50, 50)"
            ]
          },
          "metadata": {},
          "execution_count": 4
        }
      ],
      "source": [
        "len(X),len(y)"
      ]
    },
    {
      "cell_type": "markdown",
      "metadata": {
        "id": "iYJyLqQuVocN"
      },
      "source": [
        "### Splitting the data into training and testing sets.\n",
        "**Generalization is the ability of machine learning model to perform well on data it hasn't seen before**"
      ]
    },
    {
      "cell_type": "code",
      "execution_count": 5,
      "metadata": {
        "colab": {
          "base_uri": "https://localhost:8080/"
        },
        "id": "Qa36aa-xVf-k",
        "outputId": "a9143b3f-0bc7-4684-88ff-3f26f8692280"
      },
      "outputs": [
        {
          "output_type": "execute_result",
          "data": {
            "text/plain": [
              "(40, 40, 10, 10)"
            ]
          },
          "metadata": {},
          "execution_count": 5
        }
      ],
      "source": [
        "# Create a train/test split\n",
        "train_split = int(0.8*len(X))\n",
        "X_train, y_train = X[:train_split], y[:train_split]\n",
        "X_test, y_test = X[train_split:], y[train_split:]\n",
        "len(X_train), len(y_train), len(X_test), len(y_test)"
      ]
    },
    {
      "cell_type": "markdown",
      "metadata": {
        "id": "9eRr7XOgXgXJ"
      },
      "source": [
        "How might we better visualize the data?\n",
        "This is where data explorer motto comes in!\n",
        "\n",
        "\"Visualize,Visualize and Visualize..\"\n",
        "\n",
        "**MATPLOTLIB**"
      ]
    },
    {
      "cell_type": "code",
      "execution_count": 6,
      "metadata": {
        "id": "J7mCyRJzWnjI"
      },
      "outputs": [],
      "source": [
        "def plot_predictions(train_data = X_train,\n",
        "                     train_label = y_train,\n",
        "                     test_data = X_test,\n",
        "                     test_label = y_test,\n",
        "                     predictions = None\n",
        "                     ):\n",
        "  \"\"\"Plots training data, test data and compares predictions\"\"\"\n",
        "  plt.figure(figsize=(10,7))\n",
        "\n",
        "  # plot training data in blue\n",
        "  plt.scatter(train_data,train_label,c=\"b\",s=6,label=\"Training data\")\n",
        "\n",
        "  # plot testing data in green\n",
        "  plt.scatter(test_data,test_label,c=\"g\",s=6,label=\"Testing data\")\n",
        "\n",
        "  # c is color of data point ans s is size of that datapoint\n",
        "  if predictions is not None:\n",
        "    # plot predictions in red\n",
        "    plt.scatter(test_data,predictions,c=\"r\",s=6 ,label=\"Predictions\")\n",
        "\n",
        "  # Show the legend\n",
        "  plt.legend(prop={\"size\":14})\n"
      ]
    },
    {
      "cell_type": "code",
      "execution_count": 7,
      "metadata": {
        "colab": {
          "base_uri": "https://localhost:8080/",
          "height": 599
        },
        "id": "hto5oo_NajZ6",
        "outputId": "1a7e71e8-4100-4175-ee8e-8a7448b86ac7"
      },
      "outputs": [
        {
          "output_type": "display_data",
          "data": {
            "text/plain": [
              "<Figure size 1000x700 with 1 Axes>"
            ],
            "image/png": "[encoded data removed]"
          },
          "metadata": {}
        }
      ],
      "source": [
        "plot_predictions()"
      ]
    },
    {
      "cell_type": "markdown",
      "metadata": {
        "id": "dYcaLZT7m6OV"
      },
      "source": [
        "### Build Model\n",
        "My First Pytorch Model!!\n",
        "\n",
        "**What our model does:**\n",
        "1. Start with random values of parameters(here, weights and biases)\n",
        "2. Look at training data and adjust the random values to better represent the data in comparison with the ideal values\n",
        "\n",
        "**How does it so?**\n",
        "1. Gradient Descent\n",
        "2. BackPropogation"
      ]
    },
    {
      "cell_type": "code",
      "execution_count": 8,
      "metadata": {
        "id": "FD4qP8S3nDMi"
      },
      "outputs": [],
      "source": [
        "# create linear regression model class\n",
        "# Almost everthing(every model) in Pytorch inherits from nn.Module\n",
        "# nn.Module is the base class of all neural network modules\n",
        "class LinearRegressionModel(nn.Module):\n",
        "  def __init__(self):\n",
        "    super().__init__()\n",
        "\n",
        "    # Initialise model parameters\n",
        "    self.weights = nn.Parameter(torch.randn(1,\n",
        "                                           requires_grad=True,\n",
        "                                           dtype=torch.float))\n",
        "\n",
        "    self.bias = nn.Parameter(torch.randn(1,\n",
        "                                           requires_grad=True,\n",
        "                                           dtype=torch.float))\n",
        "\n",
        "    # requies_gard = true, is neccesary gor GRADIENT DESCENT algorithm\n",
        "    # to update the parameters and for BACKPROPOGATION\n",
        "\n",
        "    # Forward method to define the computation in the model\n",
        "  def forward(self,x:torch.Tensor) -> torch.Tensor: # \"x\" is input data in tensor format\n",
        "    return self.weights * x + self.bias  # linear regression formula\n"
      ]
    },
    {
      "cell_type": "markdown",
      "metadata": {
        "id": "TRm_-5dksqxQ"
      },
      "source": [
        "### PyTorch model building essentials\n",
        "\n",
        "1. torch.nn -> conatains all the building blocks for neural networks(computational graphs)\n",
        "2. torch.nn.Parameter -> what Parameters should our model try and learn, often a Pytorch layer from torch.nn will set these for us\n",
        "3. torch.optim -> this is where optimizers live, they will help with gradient descent\n",
        "4. def forward() -> All nn.Module subclasses require to ovverwrite this method, as it defines what happens in forward computation"
      ]
    },
    {
      "cell_type": "code",
      "execution_count": 9,
      "metadata": {
        "colab": {
          "base_uri": "https://localhost:8080/"
        },
        "id": "ldvc6jlEtbxR",
        "outputId": "2d038844-347b-4487-dc57-de04383cec58"
      },
      "outputs": [
        {
          "output_type": "execute_result",
          "data": {
            "text/plain": [
              "[Parameter containing:\n",
              " tensor([0.3367], requires_grad=True),\n",
              " Parameter containing:\n",
              " tensor([0.1288], requires_grad=True)]"
            ]
          },
          "metadata": {},
          "execution_count": 9
        }
      ],
      "source": [
        "# Checking the contents of our PyTorch model\n",
        "# Create a random seed for random values of our parameters\n",
        "torch.manual_seed(42)\n",
        "\n",
        "model_0 = LinearRegressionModel()\n",
        "\n",
        "list(model_0.parameters())"
      ]
    },
    {
      "cell_type": "code",
      "execution_count": 10,
      "metadata": {
        "colab": {
          "base_uri": "https://localhost:8080/"
        },
        "id": "y9JL6N_BuVM5",
        "outputId": "b4871deb-2aba-4acd-aa31-2e3994dc46f1"
      },
      "outputs": [
        {
          "output_type": "execute_result",
          "data": {
            "text/plain": [
              "OrderedDict([('weights', tensor([0.3367])), ('bias', tensor([0.1288]))])"
            ]
          },
          "metadata": {},
          "execution_count": 10
        }
      ],
      "source": [
        "# see the parametrs with names\n",
        "model_0.state_dict()\n",
        "# gives a dictionary of parameters with names and values"
      ]
    },
    {
      "cell_type": "markdown",
      "metadata": {
        "id": "yun-z-rMw-dD"
      },
      "source": [
        "### Making Prediction using torch.inference_mode()\n",
        "\n",
        "To check our model's predictive power , let's see gow it predicts y_test based on x_test\n",
        "\n",
        "When we pass the data to our model, it's going to run through the forward() method"
      ]
    },
    {
      "cell_type": "code",
      "execution_count": 11,
      "metadata": {
        "colab": {
          "base_uri": "https://localhost:8080/"
        },
        "id": "a3pmDSQQv33s",
        "outputId": "4bc05a33-c13d-46a6-f918-b84bca0c9786"
      },
      "outputs": [
        {
          "output_type": "execute_result",
          "data": {
            "text/plain": [
              "tensor([[0.3982],\n",
              "        [0.4049],\n",
              "        [0.4116],\n",
              "        [0.4184],\n",
              "        [0.4251],\n",
              "        [0.4318],\n",
              "        [0.4386],\n",
              "        [0.4453],\n",
              "        [0.4520],\n",
              "        [0.4588]])"
            ]
          },
          "metadata": {},
          "execution_count": 11
        }
      ],
      "source": [
        "# make predictions with model\n",
        "# with inference mode, it runs faster not keeping the updates of gradient descent function\n",
        "with torch.inference_mode():\n",
        "  y_preds = model_0(X_test)\n",
        "\n",
        "# same with torch.no_grad() method\n",
        "y_preds"
      ]
    },
    {
      "cell_type": "code",
      "execution_count": 12,
      "metadata": {
        "colab": {
          "base_uri": "https://localhost:8080/",
          "height": 599
        },
        "id": "y_geIiZ1x_9x",
        "outputId": "c65d14c3-9436-4d2e-e282-fd605c4f5857"
      },
      "outputs": [
        {
          "output_type": "display_data",
          "data": {
            "text/plain": [
              "<Figure size 1000x700 with 1 Axes>"
            ],
            "image/png": "[encoded data removed]"
          },
          "metadata": {}
        }
      ],
      "source": [
        "plot_predictions(predictions = y_preds)\n",
        "# not even close to y_test"
      ]
    },
    {
      "cell_type": "markdown",
      "metadata": {
        "id": "H5K_zMzh0Z_f"
      },
      "source": [
        "### Train Model\n",
        "The whole idea of training is for a model to move from some 'unknown parameters'(may be random) to some 'known' parameters\n",
        "\n",
        "One Way to measure how poor our model predictions is to use a loss function\n",
        "(LOWER IS BETTER)\n",
        "* Note: May be called as cost function\n",
        "\n",
        "Optimizer: Takes into account the loss of model and adjusts the model's parameters(e.g. weights and biases)"
      ]
    },
    {
      "cell_type": "code",
      "execution_count": 13,
      "metadata": {
        "id": "SVB9uQ5GyL67"
      },
      "outputs": [],
      "source": [
        "# Setup a loss Function\n",
        "loss_fn = nn.L1Loss()\n",
        "\n",
        "# Setup an optimizer Function\n",
        "optimizer = torch.optim.SGD(params=model_0.parameters(),lr=0.01)\n",
        "# lr : learning rate is possibly the most important hyperparameter"
      ]
    },
    {
      "cell_type": "markdown",
      "metadata": {
        "id": "Ijs1nqzL37pL"
      },
      "source": [
        "### Building a Training and Testing loop in PyTorch\n",
        "\n",
        "**What loss function and optimizer to use?**\n",
        "1. It's problem specific and it comes with experience.\n",
        "2. For regression problems, loss function like nn.L1Loss() and optimizer like torch.optim.SGD() would suffice.\n",
        "3. But for classification like problem, we would be likely to use nn.BCELoss()(Binary cross entopr loss)\n"
      ]
    },
    {
      "cell_type": "markdown",
      "metadata": {
        "id": "eq8iFBIdPFRH"
      },
      "source": [
        "**Things needed in training loop :**\n",
        "1. Loop thriugh the data\n",
        "2. Forward pass(Forward propogation)\n",
        "3. Calculate the loss\n",
        "4. Optimizer zero grad\n",
        "5. Loss backward - to calculate the gradients of each parameter wrt our current loss(Backward propogation)\n",
        "6. Optimizer step  - use the optimizer to reduce the losss by adjusting the model parameters"
      ]
    },
    {
      "cell_type": "code",
      "execution_count": 14,
      "metadata": {
        "id": "DpXOZOmz3Wmp"
      },
      "outputs": [],
      "source": [
        "torch.manual_seed(42)\n",
        "\n",
        "# An epoch is onle loop through data\n",
        "epochs = 1 # hyperparameter\n",
        "\n",
        "for epoch in range(epochs):\n",
        "  # set model to training mode\n",
        "  model_0.train() # train mode sets all parameters that requires gradients to require gradients\n",
        "\n",
        "  # Forward pass\n",
        "  y_pred = model_0(X_train)\n",
        "  # Calculate loss\n",
        "  loss = loss_fn(y_pred,y_train)\n",
        "  # Optimizer zero grad\n",
        "  optimizer.zero_grad()\n",
        "  # Perform Backpropogation\n",
        "  loss.backward()\n",
        "  # Step the optimizer(perform gradient descent)\n",
        "  optimizer.step()\n",
        "  # by-default how optimizer changes will accumulate throught the loop so.. we have to zero them all\n",
        "\n",
        "  model_0.eval() # turns off graient tracking\n",
        "\n",
        ""
      ]
    },
    {
      "cell_type": "code",
      "execution_count": 15,
      "metadata": {
        "colab": {
          "base_uri": "https://localhost:8080/"
        },
        "id": "RPI695y0b_dH",
        "outputId": "f323cec7-e07f-4739-b434-4969f88b7aee"
      },
      "outputs": [
        {
          "output_type": "execute_result",
          "data": {
            "text/plain": [
              "OrderedDict([('weights', tensor([0.3406])), ('bias', tensor([0.1388]))])"
            ]
          },
          "metadata": {},
          "execution_count": 15
        }
      ],
      "source": [
        "model_0.state_dict()"
      ]
    },
    {
      "cell_type": "code",
      "source": [
        "# Make predictions with model\n",
        "with torch.inference_mode():\n",
        "  y_preds = model_0(X_test)\n",
        "\n",
        "# can also use torch.no_grad() for closing all the gradient descent function like inference_mode"
      ],
      "metadata": {
        "id": "mykDLdQKF0Vq"
      },
      "execution_count": 16,
      "outputs": []
    },
    {
      "cell_type": "code",
      "source": [
        "# Check the predictions\n",
        "print(f\"Number of testing samples: {len(X_test)}\")\n",
        "print(f\"Number of predictions made: {len(y_preds)}\")\n",
        "print(f\"Predicted values:\\n{y_preds}\")"
      ],
      "metadata": {
        "colab": {
          "base_uri": "https://localhost:8080/"
        },
        "id": "JBwsOkkdGtqe",
        "outputId": "3921c7b3-3318-4621-9ddf-9a3f3851a611"
      },
      "execution_count": 18,
      "outputs": [
        {
          "output_type": "stream",
          "name": "stdout",
          "text": [
            "Number of testing samples: 10\n",
            "Number of predictions made: 10\n",
            "Predicted values:\n",
            "tensor([[0.4113],\n",
            "        [0.4181],\n",
            "        [0.4249],\n",
            "        [0.4317],\n",
            "        [0.4385],\n",
            "        [0.4453],\n",
            "        [0.4522],\n",
            "        [0.4590],\n",
            "        [0.4658],\n",
            "        [0.4726]])\n"
          ]
        }
      ]
    },
    {
      "cell_type": "code",
      "source": [
        "plot_predictions(predictions=y_preds)"
      ],
      "metadata": {
        "colab": {
          "base_uri": "https://localhost:8080/",
          "height": 599
        },
        "id": "ZVPUafZGGvBS",
        "outputId": "aaf1e2af-3a22-4e30-f679-1ba1296cd93a"
      },
      "execution_count": 19,
      "outputs": [
        {
          "output_type": "display_data",
          "data": {
            "text/plain": [
              "<Figure size 1000x700 with 1 Axes>"
            ],
            "image/png": "[encoded data removed]"
          },
          "metadata": {}
        }
      ]
    },
    {
      "cell_type": "code",
      "source": [
        "y_test - y_preds"
      ],
      "metadata": {
        "colab": {
          "base_uri": "https://localhost:8080/"
        },
        "id": "vGyZ8ZvWGymG",
        "outputId": "f86be5b2-b748-4f09-e503-6dbe04d05e40"
      },
      "execution_count": 20,
      "outputs": [
        {
          "output_type": "execute_result",
          "data": {
            "text/plain": [
              "tensor([[0.4487],\n",
              "        [0.4559],\n",
              "        [0.4631],\n",
              "        [0.4703],\n",
              "        [0.4775],\n",
              "        [0.4847],\n",
              "        [0.4918],\n",
              "        [0.4990],\n",
              "        [0.5062],\n",
              "        [0.5134]])"
            ]
          },
          "metadata": {},
          "execution_count": 20
        }
      ]
    },
    {
      "cell_type": "markdown",
      "source": [
        "###PyTorch Testing loop\n"
      ],
      "metadata": {
        "id": "gibskfR0G-s_"
      }
    },
    {
      "cell_type": "code",
      "source": [
        "torch.manual_seed(42)\n",
        "\n",
        "# An epoch is onle loop through data\n",
        "epochs = 100 # hyperparameter\n",
        "\n",
        "train_loss_values = []\n",
        "test_loss_values = []\n",
        "epoch_count = []\n",
        "\n",
        "for epoch in range(epochs):\n",
        "  # set model to training mode\n",
        "  model_0.train() # train mode sets all parameters that requires gradients to require gradients\n",
        "\n",
        "  # Forward pass\n",
        "  y_pred = model_0(X_train)\n",
        "  # Calculate loss\n",
        "  loss = loss_fn(y_pred,y_train)\n",
        "  # Optimizer zero grad\n",
        "  optimizer.zero_grad()\n",
        "  # Perform Backpropogation\n",
        "  loss.backward()\n",
        "  # Step the optimizer(perform gradient descent)\n",
        "  optimizer.step()\n",
        "  # by-default how optimizer changes will accumulate throught the loop so.. we have to zero them all\n",
        "\n",
        "  model_0.eval() # turns off graient tracking\n",
        "\n",
        "  with torch.inference_mode():\n",
        "      # 1. Forward pass on test data\n",
        "      test_pred = model_0(X_test)\n",
        "\n",
        "      # 2. Caculate loss on test data\n",
        "      test_loss = loss_fn(test_pred, y_test.type(torch.float)) # predictions come in torch.float datatype, so comparisons need to be done with tensors of the same type\n",
        "\n",
        "      # Print out what's happening\n",
        "      if epoch % 10 == 0:\n",
        "            epoch_count.append(epoch)\n",
        "            train_loss_values.append(loss.detach().numpy())\n",
        "            test_loss_values.append(test_loss.detach().numpy())\n",
        "            print(f\"Epoch: {epoch} | MAE Train Loss: {loss} | MAE Test Loss: {test_loss}\")"
      ],
      "metadata": {
        "colab": {
          "base_uri": "https://localhost:8080/"
        },
        "id": "lthUjjE0G1tq",
        "outputId": "737f0b72-ebe0-47a8-c613-f66dff3bae93"
      },
      "execution_count": 22,
      "outputs": [
        {
          "output_type": "stream",
          "name": "stdout",
          "text": [
            "Epoch: 0 | MAE Train Loss: 0.28983935713768005 | MAE Test Loss: 0.4541231691837311\n",
            "Epoch: 10 | MAE Train Loss: 0.1746293306350708 | MAE Test Loss: 0.3194132149219513\n",
            "Epoch: 20 | MAE Train Loss: 0.07638873159885406 | MAE Test Loss: 0.19773726165294647\n",
            "Epoch: 30 | MAE Train Loss: 0.05069301277399063 | MAE Test Loss: 0.13647659122943878\n",
            "Epoch: 40 | MAE Train Loss: 0.04463795945048332 | MAE Test Loss: 0.1100495308637619\n",
            "Epoch: 50 | MAE Train Loss: 0.04098063334822655 | MAE Test Loss: 0.09699545800685883\n",
            "Epoch: 60 | MAE Train Loss: 0.0375034399330616 | MAE Test Loss: 0.08666229248046875\n",
            "Epoch: 70 | MAE Train Loss: 0.03407188132405281 | MAE Test Loss: 0.07907666265964508\n",
            "Epoch: 80 | MAE Train Loss: 0.030638623982667923 | MAE Test Loss: 0.07080408930778503\n",
            "Epoch: 90 | MAE Train Loss: 0.027199819684028625 | MAE Test Loss: 0.06253156810998917\n"
          ]
        }
      ]
    },
    {
      "cell_type": "code",
      "source": [
        "# Plot the loss curves\n",
        "plt.plot(epoch_count, train_loss_values, label=\"Train loss\")\n",
        "plt.plot(epoch_count, test_loss_values, label=\"Test loss\")\n",
        "plt.title(\"Training and test loss curves\")\n",
        "plt.ylabel(\"Loss\")\n",
        "plt.xlabel(\"Epochs\")\n",
        "plt.legend();"
      ],
      "metadata": {
        "colab": {
          "base_uri": "https://localhost:8080/",
          "height": 472
        },
        "id": "8DpXgdmeHz-P",
        "outputId": "ec1918c2-74ab-4333-ae93-1857f95b6919"
      },
      "execution_count": 23,
      "outputs": [
        {
          "output_type": "display_data",
          "data": {
            "text/plain": [
              "<Figure size 640x480 with 1 Axes>"
            ],
            "image/png": "[encoded data removed]"
          },
          "metadata": {}
        }
      ]
    },
    {
      "cell_type": "code",
      "source": [
        "# getting the model's learned parameters\n",
        "\n",
        "print(model_0.state_dict())\n",
        "print(f\"wieghts: {weight}, bias: {bias}\")"
      ],
      "metadata": {
        "colab": {
          "base_uri": "https://localhost:8080/"
        },
        "id": "wbXqHFIXH2gw",
        "outputId": "22d88bc9-40d8-4a1d-c0ac-204704134d97"
      },
      "execution_count": 24,
      "outputs": [
        {
          "output_type": "stream",
          "name": "stdout",
          "text": [
            "OrderedDict([('weights', tensor([0.5818])), ('bias', tensor([0.3498]))])\n",
            "wieghts: 0.7, bias: 0.3\n"
          ]
        }
      ]
    },
    {
      "cell_type": "markdown",
      "source": [
        "**Making Predictions with a trained PyTorch model(inference)**"
      ],
      "metadata": {
        "id": "gLZy9qc4IL5q"
      }
    },
    {
      "cell_type": "code",
      "source": [
        "model_0.eval()\n",
        "\n",
        "with torch.inference_mode():\n",
        "  # model_0.to(device)\n",
        "  # X_test = X_test.to(device)\n",
        "  y_preds = model_0(X_test)\n",
        "y_preds"
      ],
      "metadata": {
        "colab": {
          "base_uri": "https://localhost:8080/"
        },
        "id": "mdKDWZ0jIITd",
        "outputId": "f675bb69-cbe7-4106-c9a6-6b27925f25c0"
      },
      "execution_count": 25,
      "outputs": [
        {
          "output_type": "execute_result",
          "data": {
            "text/plain": [
              "tensor([[0.8153],\n",
              "        [0.8269],\n",
              "        [0.8385],\n",
              "        [0.8502],\n",
              "        [0.8618],\n",
              "        [0.8735],\n",
              "        [0.8851],\n",
              "        [0.8967],\n",
              "        [0.9084],\n",
              "        [0.9200]])"
            ]
          },
          "metadata": {},
          "execution_count": 25
        }
      ]
    },
    {
      "cell_type": "code",
      "source": [
        "plot_predictions(predictions=y_preds)"
      ],
      "metadata": {
        "colab": {
          "base_uri": "https://localhost:8080/",
          "height": 599
        },
        "id": "ywcHwl_yIa5Q",
        "outputId": "348873c2-50ef-49e0-dc18-260c4aa9d372"
      },
      "execution_count": 26,
      "outputs": [
        {
          "output_type": "display_data",
          "data": {
            "text/plain": [
              "<Figure size 1000x700 with 1 Axes>"
            ],
            "image/png": "[encoded data removed]"
          },
          "metadata": {}
        }
      ]
    },
    {
      "cell_type": "markdown",
      "source": [
        "**Saving a PyTorch model's state_dict()**"
      ],
      "metadata": {
        "id": "6dOzhZveIjYR"
      }
    },
    {
      "cell_type": "code",
      "source": [
        "from pathlib import Path\n",
        "\n",
        "# 1. Create models directory\n",
        "MODEL_PATH = Path(\"models\")\n",
        "MODEL_PATH.mkdir(parents=True, exist_ok=True)\n",
        "\n",
        "# 2. Create model save path\n",
        "MODEL_NAME = \"01_pytorch_workflow_model_0.pth\"\n",
        "MODEL_SAVE_PATH = MODEL_PATH / MODEL_NAME\n",
        "\n",
        "# 3. Save the model state dict\n",
        "print(f\"Saving model to: {MODEL_SAVE_PATH}\")\n",
        "torch.save(obj=model_0.state_dict(), # only saving the state_dict() only saves the models learned parameters\n",
        "           f=MODEL_SAVE_PATH)"
      ],
      "metadata": {
        "colab": {
          "base_uri": "https://localhost:8080/"
        },
        "id": "3mRF5FdCIert",
        "outputId": "edf69feb-2d51-4e03-af74-d14f5200e26a"
      },
      "execution_count": 27,
      "outputs": [
        {
          "output_type": "stream",
          "name": "stdout",
          "text": [
            "Saving model to: models/01_pytorch_workflow_model_0.pth\n"
          ]
        }
      ]
    },
    {
      "cell_type": "markdown",
      "source": [
        "**Load the saved PyTorch model's state_dict()**"
      ],
      "metadata": {
        "id": "aeVD_8JjIxhT"
      }
    },
    {
      "cell_type": "code",
      "source": [
        "# Instantiate a new instance of our model (this will be instantiated with random weights)\n",
        "loaded_model_0 = LinearRegressionModel()\n",
        "\n",
        "# Load the state_dict of our saved model (this will update the new instance of our model with trained weights)\n",
        "loaded_model_0.load_state_dict(torch.load(f=MODEL_SAVE_PATH))"
      ],
      "metadata": {
        "colab": {
          "base_uri": "https://localhost:8080/"
        },
        "id": "J7-fb2dpIt_f",
        "outputId": "77aef146-e25e-4f56-e185-693488bbc532"
      },
      "execution_count": 28,
      "outputs": [
        {
          "output_type": "execute_result",
          "data": {
            "text/plain": [
              "<All keys matched successfully>"
            ]
          },
          "metadata": {},
          "execution_count": 28
        }
      ]
    },
    {
      "cell_type": "markdown",
      "source": [
        "**Instantiating a new instance of our saved model**"
      ],
      "metadata": {
        "id": "Xm4A6N2mJBcw"
      }
    },
    {
      "cell_type": "code",
      "source": [
        "loaded_model_0 = LinearRegressionModel()\n",
        "loaded_model_0.load_state_dict(torch.load(f=MODEL_SAVE_PATH))"
      ],
      "metadata": {
        "colab": {
          "base_uri": "https://localhost:8080/"
        },
        "id": "boYj2pMuI53G",
        "outputId": "caafff25-fa17-436b-f623-d6a1dfc1b089"
      },
      "execution_count": 29,
      "outputs": [
        {
          "output_type": "execute_result",
          "data": {
            "text/plain": [
              "<All keys matched successfully>"
            ]
          },
          "metadata": {},
          "execution_count": 29
        }
      ]
    },
    {
      "cell_type": "code",
      "source": [
        "# 1. Put the loaded model into evaluation mode\n",
        "loaded_model_0.eval()\n",
        "\n",
        "# 2. Use the inference mode context manager to make predictions\n",
        "with torch.inference_mode():\n",
        "    loaded_model_preds = loaded_model_0(X_test) # perform a forward pass on the test data with the loaded model"
      ],
      "metadata": {
        "id": "Odm8OniOJLqe"
      },
      "execution_count": 30,
      "outputs": []
    },
    {
      "cell_type": "code",
      "source": [
        "# Compare previous model predictions with loaded model predictions (these should be the same)\n",
        "y_preds == loaded_model_preds"
      ],
      "metadata": {
        "colab": {
          "base_uri": "https://localhost:8080/"
        },
        "id": "hQjrGd68JOYE",
        "outputId": "677a3da8-703a-4eee-9d3f-df49d8fc9662"
      },
      "execution_count": 31,
      "outputs": [
        {
          "output_type": "execute_result",
          "data": {
            "text/plain": [
              "tensor([[True],\n",
              "        [True],\n",
              "        [True],\n",
              "        [True],\n",
              "        [True],\n",
              "        [True],\n",
              "        [True],\n",
              "        [True],\n",
              "        [True],\n",
              "        [True]])"
            ]
          },
          "metadata": {},
          "execution_count": 31
        }
      ]
    }
  ],
  "metadata": {
    "colab": {
      "provenance": [],
      "authorship_tag": "ABX9TyNBg+my4f5V1J3Nm1raWnEp",
      "include_colab_link": true
    },
    "kernelspec": {
      "display_name": "Python 3",
      "name": "python3"
    },
    "language_info": {
      "name": "python"
    }
  },
  "nbformat": 4,
  "nbformat_minor": 0
}